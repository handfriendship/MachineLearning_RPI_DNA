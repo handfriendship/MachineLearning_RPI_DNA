{
 "cells": [
  {
   "cell_type": "code",
   "execution_count": 4,
   "metadata": {},
   "outputs": [
    {
     "name": "stdout",
     "output_type": "stream",
     "text": [
      "Writing RandomForestClassifier.py\n"
     ]
    }
   ],
   "source": [
    "%%writefile RandomForestClassifier.py\n",
    "\n",
    "from hyperparams import *\n",
    "from rawdata_preprocessing import *\n",
    "#from RandomForestClassifier import *\n",
    "\n",
    "import Bio\n",
    "import numpy as np\n",
    "import pandas as pd\n",
    "from sklearn.model_selection import KFold\n",
    "from sklearn.model_selection import KFold\n",
    "from sklearn.tree import DecisionTreeClassifier\n",
    "from sklearn.model_selection import cross_val_score\n",
    "from sklearn.ensemble import RandomForestClassifier\n",
    "\n",
    "def RF_Classifying(X, y, KFOLD_TIME) :\n",
    "    rf = RandomForestClassifier(random_state=1)\n",
    "    score_list = cross_val_score(rf, X, y, cv=KFOLD_TIME)\n",
    "    result = list(map(lambda x: '{score:.2f}'.format(score=x), score_list))\n",
    "    return result"
   ]
  },
  {
   "cell_type": "code",
   "execution_count": null,
   "metadata": {},
   "outputs": [],
   "source": []
  }
 ],
 "metadata": {
  "kernelspec": {
   "display_name": "Python [conda env:graduationPiece] *",
   "language": "python",
   "name": "conda-env-graduationPiece-py"
  },
  "language_info": {
   "codemirror_mode": {
    "name": "ipython",
    "version": 3
   },
   "file_extension": ".py",
   "mimetype": "text/x-python",
   "name": "python",
   "nbconvert_exporter": "python",
   "pygments_lexer": "ipython3",
   "version": "3.7.7"
  }
 },
 "nbformat": 4,
 "nbformat_minor": 4
}
