{
 "cells": [
  {
   "cell_type": "code",
   "execution_count": 19,
   "metadata": {},
   "outputs": [
    {
     "name": "stdout",
     "output_type": "stream",
     "text": [
      "Overwriting SVMClassifier.py\n"
     ]
    }
   ],
   "source": [
    "%%writefile SVMClassifier.py\n",
    "\n",
    "from sklearn.svm import SVC\n",
    "from sklearn.model_selection import validation_curve\n",
    "from sklearn.model_selection import GridSearchCV\n",
    "\n",
    "\n",
    "\n",
    "def SVM_Classifying(X, y, KFOLD_TIME) : \n",
    "    SVMC = SVC(probability=True)\n",
    "    param_range = [0.0001, 0.001, 0.01, 0.1, 1.0, 10.0, 100.0, 1000.0]\n",
    "    #svc_param_grid = [{'gamma': param_range, 'C':param_range, 'kernal': ['rbf']},\n",
    "    #                 {'gamma': param_range, 'C':param_range, 'kernal': ['linear']}]\n",
    "    param_grid = {\n",
    "        'gamma': param_range,\n",
    "        'random_state' : [2]\n",
    "    }\n",
    "    print('test1')\n",
    "    #print(sorted(estimator.get_params().keys()))\n",
    "    #['C', 'break_ties', 'cache_size', 'class_weight', 'coef0', 'decision_function_shape', 'degree', 'gamma', 'kernel', 'max_iter', 'probability', 'random_state', 'shrinking', 'tol', 'verbose']\n",
    "\n",
    "\n",
    "    gsSVMC = GridSearchCV(SVMC, param_grid = param_grid, cv=KFOLD_TIME,\n",
    "                         scoring=\"accuracy\", n_jobs=1, verbose=1)\n",
    "    print('test2')\n",
    "    print(sorted(SVMC.get_params().keys()))\n",
    "\n",
    "    gsSVMC.fit(X, y)\n",
    "\n",
    "    SVMC_best = gsSVMC.best_estimator_\n",
    "    print(gsSVMC.best_score_)\n",
    "    # Best score\n",
    "    return gsSVMC.best_score_"
   ]
  },
  {
   "cell_type": "code",
   "execution_count": null,
   "metadata": {},
   "outputs": [],
   "source": []
  },
  {
   "cell_type": "code",
   "execution_count": null,
   "metadata": {},
   "outputs": [],
   "source": []
  }
 ],
 "metadata": {
  "kernelspec": {
   "display_name": "Python [conda env:graduationPiece] *",
   "language": "python",
   "name": "conda-env-graduationPiece-py"
  },
  "language_info": {
   "codemirror_mode": {
    "name": "ipython",
    "version": 3
   },
   "file_extension": ".py",
   "mimetype": "text/x-python",
   "name": "python",
   "nbconvert_exporter": "python",
   "pygments_lexer": "ipython3",
   "version": "3.7.7"
  }
 },
 "nbformat": 4,
 "nbformat_minor": 4
}
