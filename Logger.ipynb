{
 "cells": [
  {
   "cell_type": "code",
   "execution_count": 1,
   "metadata": {},
   "outputs": [
    {
     "name": "stdout",
     "output_type": "stream",
     "text": [
      "Overwriting Logger.py\n"
     ]
    }
   ],
   "source": [
    "%%writefile Logger.py\n",
    "\n",
    "import logging\n",
    "import datetime\n",
    "import string\n",
    "temp = string.Template(\"WOOJUNG LOG ${var}.log\")\n",
    "filename = temp.substitute(var=datetime.datetime.now())\n",
    "logFormat = '[%(asctime)s][%(levelname)s][%(filename)s:%(lineno)s] %(message)s'\n",
    "logging.basicConfig(filename=\"WOOJUNG's LOG.log\", level=logging.DEBUG, format=logFormat)\n",
    "logger = logging.getLogger()\n",
    "#formatter = logging.Formatter(logFormat)\n",
    "\n",
    "streamHandler = logging.StreamHandler()\n",
    "#fileHandler = logging.FileHandler('./WOOJUNG\\'s LOG.log')\n",
    "#fileHandler.setFormatter(formatter)\n",
    "logger.setLevel(level=logging.DEBUG)\n",
    "logger.addHandler(streamHandler)\n",
    "#logger.addHandler(fileHandler)"
   ]
  },
  {
   "cell_type": "code",
   "execution_count": null,
   "metadata": {},
   "outputs": [],
   "source": []
  }
 ],
 "metadata": {
  "kernelspec": {
   "display_name": "Python [conda env:graduationPiece] *",
   "language": "python",
   "name": "conda-env-graduationPiece-py"
  },
  "language_info": {
   "codemirror_mode": {
    "name": "ipython",
    "version": 3
   },
   "file_extension": ".py",
   "mimetype": "text/x-python",
   "name": "python",
   "nbconvert_exporter": "python",
   "pygments_lexer": "ipython3",
   "version": "3.7.7"
  }
 },
 "nbformat": 4,
 "nbformat_minor": 4
}
