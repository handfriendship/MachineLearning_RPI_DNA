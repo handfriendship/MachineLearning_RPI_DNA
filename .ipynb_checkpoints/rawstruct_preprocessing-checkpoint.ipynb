{
 "cells": [
  {
   "cell_type": "code",
   "execution_count": 2,
   "metadata": {
    "scrolled": false
   },
   "outputs": [
    {
     "name": "stdout",
     "output_type": "stream",
     "text": [
      "Overwriting rawstruct_preprocessing_debug.py\n"
     ]
    }
   ],
   "source": [
    "%%writefile rawstruct_preprocessing.py\n",
    "\n",
    "#from hyperparams import *\n",
    "isPrint = False\n",
    "import string\n",
    "import Bio\n",
    "\n",
    "DATASET_DICT = {369 : 'RPI369', 488 : 'RPI488', 1807 : 'RPI1807', 2241 : 'RPI2241', 10412 : 'NPInter'}\n",
    "BASE_PATH = \"data/\"\n",
    "SEQ_PATH = BASE_PATH + \"sequence/\"\n",
    "STR_PATH = BASE_PATH + \"structure/\"\n",
    "\n",
    "def read_data_pair(path):\n",
    "    # _pair.txt (RNA sequence, Protein sequence, label 을 묶어서 pair을 표시해놓은 파일) 을 열어서 결합하는거끼리, 안하는거끼리 2차원 배열 2개를\n",
    "    # 만드는 함수.\n",
    "    pos_pairs = []\n",
    "    neg_pairs = []\n",
    "    with open(path, 'r') as f:\n",
    "        for line in f:\n",
    "            line = line.strip()\n",
    "            p, r, label = line.split('\\t')\n",
    "            if label == '1':\n",
    "                pos_pairs.append((p, r))\n",
    "            elif label == '0':\n",
    "                neg_pairs.append((p, r))\n",
    "    return pos_pairs, neg_pairs\n",
    "\n",
    "def read_data_seq(path):\n",
    "    print('path of what we\\'ve preprocessing : {}'.format(path))\n",
    "    # .fa 파일을 읽어서 (번호 : seqneuce) 이렇게 딕셔너리를 만들어주는 함수.\n",
    "    seq_dict = {}\n",
    "    with open(path, 'r') as f:\n",
    "        name = ''\n",
    "        for line in f:\n",
    "            line = line.strip()\n",
    "            if line[0] == '>':\n",
    "                name = line[1:]\n",
    "                seq_dict[name] = ''\n",
    "            else:\n",
    "                if line.startswith('XXX'):\n",
    "                    seq_dict.pop(name)\n",
    "                else:\n",
    "                    seq_dict[name] = line\n",
    "    return seq_dict\n",
    "    \n",
    "def read_RPI_pairStruct(size=10412) :\n",
    "    pro_seqs = read_data_seq(SEQ_PATH + DATASET_DICT[size] + '_protein_seq.fa')\n",
    "    rna_seqs = read_data_seq(SEQ_PATH + DATASET_DICT[size] + '_rna_seq.fa')\n",
    "    pro_structs = read_data_seq(STR_PATH + DATASET_DICT[size] + '_protein_struct.fa')\n",
    "    rna_structs = read_data_seq(STR_PATH + DATASET_DICT[size] + '_rna_struct.fa')\n",
    "    pos_pairs, neg_pairs = read_data_pair(BASE_PATH + DATASET_DICT[size] + '_pairs.txt')\n",
    "\n",
    "    return pos_pairs, neg_pairs, pro_seqs, rna_seqs, pro_structs, rna_structs"
   ]
  },
  {
   "cell_type": "code",
   "execution_count": null,
   "metadata": {},
   "outputs": [],
   "source": []
  }
 ],
 "metadata": {
  "kernelspec": {
   "display_name": "Python 3",
   "language": "python",
   "name": "python3"
  },
  "language_info": {
   "codemirror_mode": {
    "name": "ipython",
    "version": 3
   },
   "file_extension": ".py",
   "mimetype": "text/x-python",
   "name": "python",
   "nbconvert_exporter": "python",
   "pygments_lexer": "ipython3",
   "version": "3.7.7"
  }
 },
 "nbformat": 4,
 "nbformat_minor": 4
}
