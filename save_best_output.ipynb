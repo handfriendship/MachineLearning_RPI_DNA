{
 "cells": [
  {
   "cell_type": "code",
   "execution_count": 1,
   "metadata": {
    "scrolled": false
   },
   "outputs": [
    {
     "name": "stdout",
     "output_type": "stream",
     "text": [
      "Overwriting ../save_best_output.py\n"
     ]
    }
   ],
   "source": [
    "%%writefile save_best_output.py\n",
    "\n",
    "import json\n",
    "from collections import OrderedDict\n",
    "from Logger import *\n",
    "import glob\n",
    "import os.path\n",
    "\n",
    "def save_best_output(npz_path, best_score, best_params, best_model) :\n",
    "    \n",
    "    datasets = ['NPInter', 'RPI369', 'RPI488', 'RPI1807', 'RPI2241']\n",
    "\n",
    "    for dataset in datasets :\n",
    "        if dataset in npz_path :\n",
    "            targetDataset = dataset\n",
    "\n",
    "    current_score_dict = {\n",
    "        \"dataset\" : npz_path,\n",
    "        \"best_score\" : best_score,\n",
    "        \"best_params\" : best_params,\n",
    "        \"best_model\" : best_model.replace('\\t', ' ').replace(' ', '')\n",
    "    }\n",
    "    \n",
    "    result_dict = {\n",
    "            \"NPInter\" : {\n",
    "                \"dataset\" : '',\n",
    "                \"best_score\" : 0,\n",
    "                \"best_params\" : {},\n",
    "                \"best_model\" : {}\n",
    "            },\n",
    "            \"RPI1807\" : {\n",
    "                \"dataset\" : '',\n",
    "                \"best_score\" : 0,\n",
    "                \"best_params\" : {},\n",
    "                \"best_model\" : {}\n",
    "            },\n",
    "            \"RPI2241\" : {\n",
    "                \"dataset\" : '',\n",
    "                \"best_score\" : 0,\n",
    "                \"best_params\" : {},\n",
    "                \"best_model\" : {}\n",
    "            },\n",
    "            \"RPI369\"  : {\n",
    "                \"dataset\" : '',\n",
    "                \"best_score\" : 0,\n",
    "                \"best_params\" : {},\n",
    "                \"best_model\" : {}\n",
    "            },\n",
    "            \"RPI488\"  : {\n",
    "                \"dataset\" : '',\n",
    "                \"best_score\" : 0,\n",
    "                \"best_params\" : {},\n",
    "                \"best_model\" : {}\n",
    "            }\n",
    "        }\n",
    "    \n",
    "    file = './best_output.json'\n",
    "\n",
    "    if not os.path.exists(file) : \n",
    "\n",
    "        fp = open('best_output.json', 'w', encoding='UTF-8')\n",
    "        \n",
    "        fp.write(json.JSONEncoder().encode(result_dict))\n",
    "        fp.close()\n",
    "    \n",
    "    fp = open('best_output.json', 'r+', encoding='UTF-8')\n",
    "    data_json = json.load(fp)\n",
    "    best_score_so_far = data_json[targetDataset][\"best_score\"]\n",
    "    logger.debug('[save_best_output]best_score_so_far : {}'.format(best_score_so_far))\n",
    "    \n",
    "    if best_score > best_score_so_far :\n",
    "        data_json[targetDataset] = current_score_dict\n",
    "        logger.debug('[save_best_output]Best Score of dataset {0} updated with score {1}'.format(targetDataset, best_score))\n",
    "        \n",
    "    fp.close()\n",
    "        \n",
    "    with open('best_output.json', 'w', encoding='utf-8') as fp:\n",
    "        json.dump(data_json, fp, indent=\"\\t\")\n"
   ]
  },
  {
   "cell_type": "code",
   "execution_count": null,
   "metadata": {},
   "outputs": [],
   "source": []
  }
 ],
 "metadata": {
  "kernelspec": {
   "display_name": "Python [conda env:graduationPiece] *",
   "language": "python",
   "name": "conda-env-graduationPiece-py"
  },
  "language_info": {
   "codemirror_mode": {
    "name": "ipython",
    "version": 3
   },
   "file_extension": ".py",
   "mimetype": "text/x-python",
   "name": "python",
   "nbconvert_exporter": "python",
   "pygments_lexer": "ipython3",
   "version": "3.7.7"
  }
 },
 "nbformat": 4,
 "nbformat_minor": 4
}
